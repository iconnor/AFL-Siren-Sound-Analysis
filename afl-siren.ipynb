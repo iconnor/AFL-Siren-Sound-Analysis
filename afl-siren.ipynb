{
 "cells": [
  {
   "cell_type": "code",
   "execution_count": 89,
   "metadata": {},
   "outputs": [
    {
     "name": "stdout",
     "output_type": "stream",
     "text": [
      "Top frequencies:  [1941.32252633  658.58043894  881.87448272 1718.02848255  658.23796341\n",
      " 1941.66500186  987.87065841 1612.03230686 1941.15128856  658.7516767 ] Hz\n"
     ]
    },
    {
     "data": {
      "image/png": "[encoded data removed]",
      "text/plain": [
       "<Figure size 432x288 with 1 Axes>"
      ]
     },
     "metadata": {
      "needs_background": "light"
     },
     "output_type": "display_data"
    }
   ],
   "source": [
    "import numpy as np\n",
    "from scipy.io.wavfile import read\n",
    "from scipy.fftpack import fft\n",
    "import matplotlib.pyplot as plt\n",
    "\n",
    "# Read the file (assumes you have converted mp3 to wav)\n",
    "sampling_rate, data = read('AFL Siren Sound Effect.wav')\n",
    "\n",
    "# If the audio file is stereo (two channels), we need to convert it to mono\n",
    "if len(data.shape) > 1 and data.shape[1] > 1:\n",
    "    data = np.mean(data, axis=1)\n",
    "\n",
    "# Take the FFT\n",
    "fft_out = fft(data)\n",
    "\n",
    "# Generate the frequencies associated with the FFT output\n",
    "frequencies = np.abs(np.fft.fftfreq(len(fft_out), 1.0/sampling_rate))\n",
    "\n",
    "\n",
    "# Only consider frequencies in the \"lower\" range of human hearing\n",
    "mask = (frequencies < 1300)\n",
    "\n",
    "# Find the top N frequencies within this mask\n",
    "N = 10\n",
    "indices = (-np.abs(fft_out[mask])).argsort()[:N]\n",
    "top_frequencies = frequencies[indices]\n",
    "print('Top frequencies: ', top_frequencies, 'Hz')\n",
    "\n",
    "# Plot the absolute value of the FFT output versus frequency\n",
    "plt.plot(frequencies, np.abs(fft_out))\n",
    "plt.scatter(top_frequencies, np.abs(fft_out)[indices], color='r')  # Mark top frequencies\n",
    "plt.show()\n",
    "\n"
   ]
  },
  {
   "cell_type": "code",
   "execution_count": 90,
   "metadata": {},
   "outputs": [],
   "source": [
    "import numpy as np\n",
    "from scipy.io.wavfile import write\n",
    "\n",
    "# Settings\n",
    "sample_rate = 44100  # Sample rate in Hz\n",
    "duration = 5.0  # seconds\n",
    "\n",
    "# Generate the time values for each sample\n",
    "t = np.arange(int(sample_rate * duration)) / sample_rate\n",
    "\n",
    "# Generate the audio signal by summing sine waves for each top frequency\n",
    "signal = np.zeros(len(t))\n",
    "for frequency in top_frequencies:\n",
    "    signal += 0.05 * np.sin(2 * np.pi * frequency * t)\n",
    "\n",
    "# Write to .wav file\n",
    "write('combined_sine_waves.wav', sample_rate, signal)\n"
   ]
  }
 ],
 "metadata": {
  "kernelspec": {
   "display_name": "base",
   "language": "python",
   "name": "python3"
  },
  "language_info": {
   "codemirror_mode": {
    "name": "ipython",
    "version": 3
   },
   "file_extension": ".py",
   "mimetype": "text/x-python",
   "name": "python",
   "nbconvert_exporter": "python",
   "pygments_lexer": "ipython3",
   "version": "3.8.16"
  },
  "orig_nbformat": 4
 },
 "nbformat": 4,
 "nbformat_minor": 2
}
